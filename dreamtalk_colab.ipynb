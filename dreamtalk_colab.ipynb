{
  "cells": [
    {
      "cell_type": "markdown",
      "metadata": {
        "id": "view-in-github"
      },
      "source": [
        "[![Open In Colab](https://colab.research.google.com/assets/colab-badge.svg)](https://colab.research.google.com/github/camenduru/dreamtalk-colab/blob/main/dreamtalk_colab.ipynb)"
      ]
    },
    {
      "cell_type": "code",
      "execution_count": null,
      "metadata": {
        "id": "VjYy0F2gZIPR"
      },
      "outputs": [],
      "source": [
        "%cd /content\n",
        "!git clone -b dev https://github.com/camenduru/dreamtalk\n",
        "%cd /content/dreamtalk\n",
        "\n",
        "!wget https://huggingface.co/camenduru/dreamtalk/resolve/main/damo/dreamtalk/checkpoints/denoising_network.pth -O /content/dreamtalk/checkpoints/denoising_network.pth\n",
        "!wget https://huggingface.co/camenduru/dreamtalk/resolve/main/damo/dreamtalk/checkpoints/renderer.pt -O /content/dreamtalk/checkpoints/renderer.pt\n",
        "\n",
        "!pip install -q yacs av"
      ]
    },
    {
      "cell_type": "code",
      "execution_count": null,
      "metadata": {},
      "outputs": [],
      "source": [
        "!python inference_for_demo_video.py \\\n",
        "--wav_path data/audio/acknowledgement_english.m4a \\\n",
        "--style_clip_path data/style_clip/3DMM/M030_front_neutral_level1_001.mat \\\n",
        "--pose_path data/pose/RichardShelby_front_neutral_level1_001.mat \\\n",
        "--image_path data/src_img/uncropped/male_face.png \\\n",
        "--cfg_scale 1.0 \\\n",
        "--max_gen_len 30 \\\n",
        "--output_name acknowledgement_english@M030_front_neutral_level1_001@male_face"
      ]
    },
    {
      "cell_type": "code",
      "execution_count": null,
      "metadata": {},
      "outputs": [],
      "source": [
        "!python inference_for_demo_video.py \\\n",
        "--wav_path data/audio/acknowledgement_chinese.m4a \\\n",
        "--style_clip_path data/style_clip/3DMM/M030_front_surprised_level3_001.mat \\\n",
        "--pose_path data/pose/RichardShelby_front_neutral_level1_001.mat \\\n",
        "--image_path data/src_img/cropped/zp1.png \\\n",
        "--disable_img_crop \\\n",
        "--cfg_scale 1.0 \\\n",
        "--max_gen_len 30 \\\n",
        "--output_name acknowledgement_chinese@M030_front_surprised_level3_001@zp1"
      ]
    }
  ],
  "metadata": {
    "accelerator": "GPU",
    "colab": {
      "gpuType": "T4",
      "provenance": []
    },
    "kernelspec": {
      "display_name": "Python 3",
      "name": "python3"
    },
    "language_info": {
      "name": "python"
    }
  },
  "nbformat": 4,
  "nbformat_minor": 0
}
